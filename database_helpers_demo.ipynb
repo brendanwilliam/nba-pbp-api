{
 "cells": [
  {
   "cell_type": "markdown",
   "metadata": {},
   "source": [
    "# WNBA Database Helper Functions Demo\n",
    "\n",
    "This notebook demonstrates how to use the database helper functions in `src/database/services.py` for querying player and team data efficiently.\n",
    "\n",
    "## Prerequisites\n",
    "\n",
    "Make sure you have:\n",
    "1. Activated your virtual environment: `source venv/bin/activate`\n",
    "2. Database connection configured with proper environment variables\n",
    "3. WNBA data populated in your PostgreSQL database"
   ]
  },
  {
   "cell_type": "code",
   "execution_count": 1,
   "metadata": {},
   "outputs": [],
   "source": [
    "# Import the helper functions\n",
    "from src.database.services import (\n",
    "    # Player functions\n",
    "    get_player_by_id,\n",
    "    get_player_by_name,\n",
    "    get_player_season_stats,\n",
    "    get_player_games,\n",
    "    get_all_active_players,\n",
    "    compare_players_by_season,\n",
    "    \n",
    "    # Team functions\n",
    "    get_team_by_id,\n",
    "    get_team_by_tricode,\n",
    "    get_team_season_stats,\n",
    "    get_all_teams,\n",
    "    get_all_active_teams,\n",
    "    \n",
    "    # Direct service access\n",
    "    DatabaseService\n",
    ")\n",
    "\n",
    "from datetime import datetime, timezone, timedelta\n",
    "import pandas as pd\n",
    "import json"
   ]
  },
  {
   "cell_type": "markdown",
   "metadata": {},
   "source": [
    "## 1. Player Queries\n",
    "\n",
    "### Finding Players"
   ]
  },
  {
   "cell_type": "code",
   "execution_count": 6,
   "metadata": {},
   "outputs": [
    {
     "name": "stdout",
     "output_type": "stream",
     "text": [
      "Player found: A'ja Wilson\n",
      "Role: player\n",
      "First name: A'ja\n",
      "Last name: Wilson\n"
     ]
    }
   ],
   "source": [
    "# Find a player by ID (replace with actual player ID from your database)\n",
    "player_id = 1628932  # Example: A'ja Wilson's ID\n",
    "player = get_player_by_id(player_id)\n",
    "\n",
    "if player:\n",
    "    print(f\"Player found: {player.person_name}\")\n",
    "    print(f\"Role: {player.person_role}\")\n",
    "    print(f\"First name: {player.person_fname}\")\n",
    "    print(f\"Last name: {player.person_lname}\")\n",
    "else:\n",
    "    print(f\"Player with ID {player_id} not found\")"
   ]
  },
  {
   "cell_type": "code",
   "execution_count": 7,
   "metadata": {},
   "outputs": [
    {
     "name": "stdout",
     "output_type": "stream",
     "text": [
      "Found player: A'ja Wilson (ID: 1628932)\n"
     ]
    }
   ],
   "source": [
    "# Search for a player by name\n",
    "player_name = \"A'ja Wilson\"  # Partial name search\n",
    "player = get_player_by_name(player_name)\n",
    "\n",
    "if player:\n",
    "    print(f\"Found player: {player.person_name} (ID: {player.person_id})\")\n",
    "else:\n",
    "    print(f\"No player found matching '{player_name}'\")"
   ]
  },
  {
   "cell_type": "markdown",
   "metadata": {},
   "source": [
    "### Getting Active Players"
   ]
  },
  {
   "cell_type": "code",
   "execution_count": 8,
   "metadata": {},
   "outputs": [
    {
     "name": "stdout",
     "output_type": "stream",
     "text": [
      "Found 214 active players\n",
      "- Makayla Timpson (ID: 1642815)\n",
      "- Kaela Davis (ID: 1628273)\n",
      "- Megan Gustafson (ID: 1629484)\n",
      "- Sania Feagin (ID: 1642790)\n",
      "- NaLyssa Smith (ID: 1631019)\n",
      "- Kristy Wallace (ID: 1628929)\n",
      "- Anastasiia Olairi Kosu (ID: 1642797)\n",
      "- Dominique Malonga (ID: 1642798)\n",
      "- Jackie Young (ID: 1629498)\n",
      "- Aliyah Boston (ID: 1641648)\n"
     ]
    }
   ],
   "source": [
    "# Get all active players (last year)\n",
    "active_players = get_all_active_players()\n",
    "print(f\"Found {len(active_players)} active players\")\n",
    "\n",
    "# Show first 10 players\n",
    "for player in active_players[:10]:\n",
    "    print(f\"- {player.person_name} (ID: {player.person_id})\")"
   ]
  },
  {
   "cell_type": "code",
   "execution_count": 9,
   "metadata": {},
   "outputs": [
    {
     "name": "stdout",
     "output_type": "stream",
     "text": [
      "Found 252 players active in last 2 years\n"
     ]
    }
   ],
   "source": [
    "# Get players active in the last 2 years\n",
    "two_years_ago = datetime.now(timezone.utc) - timedelta(days=730)\n",
    "players_2yr = get_all_active_players(cutoff_date=two_years_ago)\n",
    "print(f\"Found {len(players_2yr)} players active in last 2 years\")"
   ]
  },
  {
   "cell_type": "markdown",
   "metadata": {},
   "source": [
    "### Player Season Statistics"
   ]
  },
  {
   "cell_type": "code",
   "execution_count": 11,
   "metadata": {},
   "outputs": [
    {
     "name": "stdout",
     "output_type": "stream",
     "text": [
      "Regular Season Stats:\n",
      "Games Played: 39\n",
      "PPG: 26.2\n",
      "RPG: 11.6\n",
      "APG: 2.3\n",
      "FG%: 51.8%\n",
      "3P%: 31.7%\n",
      "FT%: 84.4%\n",
      "\n",
      "==================================================\n",
      "\n",
      "Playoff Stats:\n",
      "Games Played: 6\n",
      "PPG: 21.3\n",
      "RPG: 9.7\n",
      "APG: 2.8\n",
      "FG%: 53.5%\n"
     ]
    }
   ],
   "source": [
    "# Get player season totals (replace with actual player ID and season)\n",
    "player_id = 1628932  # Example player ID\n",
    "season = 2024\n",
    "\n",
    "# Regular season stats\n",
    "regular_stats = get_player_season_stats(player_id, season, \"regular\")\n",
    "if regular_stats:\n",
    "    print(\"Regular Season Stats:\")\n",
    "    print(f\"Games Played: {regular_stats['games_played']}\")\n",
    "    print(f\"PPG: {regular_stats['ppg']}\")\n",
    "    print(f\"RPG: {regular_stats['rpg']}\")\n",
    "    print(f\"APG: {regular_stats['apg']}\")\n",
    "    print(f\"FG%: {regular_stats['fg_pct']}%\")\n",
    "    print(f\"3P%: {regular_stats['tp_pct']}%\")\n",
    "    print(f\"FT%: {regular_stats['ft_pct']}%\")\n",
    "else:\n",
    "    print(f\"No regular season stats found for player {player_id} in {season}\")\n",
    "\n",
    "print(\"\\n\" + \"=\"*50 + \"\\n\")\n",
    "\n",
    "# Playoff stats\n",
    "playoff_stats = get_player_season_stats(player_id, season, \"playoff\")\n",
    "if playoff_stats:\n",
    "    print(\"Playoff Stats:\")\n",
    "    print(f\"Games Played: {playoff_stats['games_played']}\")\n",
    "    print(f\"PPG: {playoff_stats['ppg']}\")\n",
    "    print(f\"RPG: {playoff_stats['rpg']}\")\n",
    "    print(f\"APG: {playoff_stats['apg']}\")\n",
    "    print(f\"FG%: {playoff_stats['fg_pct']}%\")\n",
    "else:\n",
    "    print(f\"No playoff stats found for player {player_id} in {season}\")"
   ]
  },
  {
   "cell_type": "code",
   "execution_count": null,
   "metadata": {},
   "outputs": [],
   "source": [
    "# Get individual game stats for a player\n",
    "player_games = get_player_games(player_id, season, \"regular\")\n",
    "print(f\"Found {len(player_games)} regular season games for player {player_id}\")\n",
    "\n",
    "# Show stats from first 5 games\n",
    "for i, game in enumerate(player_games[:5]):\n",
    "    print(f\"Game {i+1}: {game.pts} pts, {game.reb} reb, {game.ast} ast\")"
   ]
  },
  {
   "cell_type": "markdown",
   "metadata": {},
   "source": [
    "### Comparing Multiple Players"
   ]
  },
  {
   "cell_type": "code",
   "execution_count": null,
   "metadata": {},
   "outputs": [],
   "source": [
    "# Compare multiple players (replace with actual player IDs)\n",
    "player_ids = [1628886, 1629636, 1629867]  # Example player IDs\n",
    "season = 2024\n",
    "\n",
    "comparison = compare_players_by_season(player_ids, season, \"regular\")\n",
    "\n",
    "print(f\"Player comparison for {season} regular season:\\n\")\n",
    "for player_stats in comparison:\n",
    "    print(f\"{player_stats['player_name']}:\")\n",
    "    print(f\"  PPG: {player_stats['ppg']}\")\n",
    "    print(f\"  RPG: {player_stats['rpg']}\")\n",
    "    print(f\"  APG: {player_stats['apg']}\")\n",
    "    print(f\"  FG%: {player_stats['fg_pct']}%\")\n",
    "    print()"
   ]
  },
  {
   "cell_type": "markdown",
   "metadata": {},
   "source": [
    "## 2. Team Queries\n",
    "\n",
    "### Finding Teams"
   ]
  },
  {
   "cell_type": "code",
   "execution_count": null,
   "metadata": {},
   "outputs": [],
   "source": [
    "# Get all teams\n",
    "all_teams = get_all_teams()\n",
    "print(f\"Found {len(all_teams)} total teams:\\n\")\n",
    "\n",
    "for team in all_teams:\n",
    "    print(f\"{team.team_city} {team.team_name} ({team.team_tricode}) - ID: {team.team_id}\")"
   ]
  },
  {
   "cell_type": "code",
   "execution_count": null,
   "metadata": {},
   "outputs": [],
   "source": [
    "# Find team by tricode\n",
    "team_tricode = \"LV\"  # Las Vegas Aces\n",
    "team = get_team_by_tricode(team_tricode)\n",
    "\n",
    "if team:\n",
    "    print(f\"Team found: {team.team_city} {team.team_name}\")\n",
    "    print(f\"Tricode: {team.team_tricode}\")\n",
    "    print(f\"Team ID: {team.team_id}\")\n",
    "else:\n",
    "    print(f\"Team with tricode '{team_tricode}' not found\")"
   ]
  },
  {
   "cell_type": "markdown",
   "metadata": {},
   "source": [
    "### Getting Active Teams"
   ]
  },
  {
   "cell_type": "code",
   "execution_count": null,
   "metadata": {},
   "outputs": [],
   "source": [
    "# Get all active teams (last year)\n",
    "active_teams = get_all_active_teams()\n",
    "print(f\"Found {len(active_teams)} active teams:\\n\")\n",
    "\n",
    "for team in active_teams:\n",
    "    print(f\"{team.team_city} {team.team_name} ({team.team_tricode})\")"
   ]
  },
  {
   "cell_type": "markdown",
   "metadata": {},
   "source": [
    "### Team Season Statistics"
   ]
  },
  {
   "cell_type": "code",
   "execution_count": null,
   "metadata": {},
   "outputs": [],
   "source": [
    "# Get team season stats (replace with actual team ID)\n",
    "team_id = 1611661313  # Example: Las Vegas Aces team ID\n",
    "season = 2024\n",
    "\n",
    "team_stats = get_team_season_stats(team_id, season, \"regular\")\n",
    "if team_stats:\n",
    "    print(f\"Team ID {team_id} - {season} Regular Season Stats:\")\n",
    "    print(f\"Games Played: {team_stats['games_played']}\")\n",
    "    print(f\"PPG: {team_stats['ppg']}\")\n",
    "    print(f\"RPG: {team_stats['rpg']}\")\n",
    "    print(f\"APG: {team_stats['apg']}\")\n",
    "    print(f\"FG%: {team_stats['fg_pct']}%\")\n",
    "    print(f\"3P%: {team_stats['tp_pct']}%\")\n",
    "else:\n",
    "    print(f\"No stats found for team {team_id} in {season}\")"
   ]
  },
  {
   "cell_type": "markdown",
   "metadata": {},
   "source": [
    "## 3. Advanced Usage with DatabaseService\n",
    "\n",
    "For more complex queries, you can use the DatabaseService directly:"
   ]
  },
  {
   "cell_type": "code",
   "execution_count": null,
   "metadata": {},
   "outputs": [],
   "source": [
    "# Using DatabaseService for multiple operations in one session\n",
    "with DatabaseService() as db:\n",
    "    # Get multiple players by ID\n",
    "    player_ids = [1628886, 1629636]  # Example IDs\n",
    "    \n",
    "    print(\"Players and their teams:\")\n",
    "    for pid in player_ids:\n",
    "        player = db.person.get_player_by_id(pid)\n",
    "        if player:\n",
    "            # Get player's season stats\n",
    "            stats = db.person.get_player_season_totals(pid, 2024, \"regular\")\n",
    "            if stats:\n",
    "                print(f\"{player.person_name}: {stats['ppg']} PPG, {stats['rpg']} RPG\")\n",
    "            else:\n",
    "                print(f\"{player.person_name}: No stats available\")\n",
    "        else:\n",
    "            print(f\"Player ID {pid} not found\")"
   ]
  },
  {
   "cell_type": "markdown",
   "metadata": {},
   "source": [
    "## 4. Creating DataFrames for Analysis\n",
    "\n",
    "Convert the results to pandas DataFrames for easier analysis:"
   ]
  },
  {
   "cell_type": "code",
   "execution_count": null,
   "metadata": {},
   "outputs": [],
   "source": [
    "# Create a DataFrame of active players\n",
    "active_players = get_all_active_players()\n",
    "player_data = []\n",
    "\n",
    "for player in active_players[:20]:  # Limit to first 20 for demo\n",
    "    player_data.append({\n",
    "        'player_id': player.person_id,\n",
    "        'name': player.person_name,\n",
    "        'first_name': player.person_fname,\n",
    "        'last_name': player.person_lname,\n",
    "        'role': player.person_role,\n",
    "        'last_used': player.last_used\n",
    "    })\n",
    "\n",
    "players_df = pd.DataFrame(player_data)\n",
    "print(\"Active Players DataFrame:\")\n",
    "print(players_df.head())"
   ]
  },
  {
   "cell_type": "code",
   "execution_count": null,
   "metadata": {},
   "outputs": [],
   "source": [
    "# Create a DataFrame of team stats\n",
    "active_teams = get_all_active_teams()\n",
    "team_stats_data = []\n",
    "\n",
    "season = 2024\n",
    "for team in active_teams:\n",
    "    stats = get_team_season_stats(team.team_id, season, \"regular\")\n",
    "    if stats:\n",
    "        team_stats_data.append({\n",
    "            'team_id': team.team_id,\n",
    "            'team_name': f\"{team.team_city} {team.team_name}\",\n",
    "            'tricode': team.team_tricode,\n",
    "            'games_played': stats['games_played'],\n",
    "            'ppg': stats['ppg'],\n",
    "            'rpg': stats['rpg'],\n",
    "            'apg': stats['apg'],\n",
    "            'fg_pct': stats['fg_pct']\n",
    "        })\n",
    "\n",
    "if team_stats_data:\n",
    "    team_stats_df = pd.DataFrame(team_stats_data)\n",
    "    print(f\"\\nTeam Stats DataFrame for {season}:\")\n",
    "    print(team_stats_df)\n",
    "else:\n",
    "    print(f\"No team stats found for {season}\")"
   ]
  },
  {
   "cell_type": "markdown",
   "metadata": {},
   "source": [
    "## 5. Error Handling and Tips\n",
    "\n",
    "The helper functions include built-in error handling, but here are some tips:"
   ]
  },
  {
   "cell_type": "code",
   "execution_count": null,
   "metadata": {},
   "outputs": [],
   "source": [
    "# Always check if results exist before using them\n",
    "player_id = 999999  # Non-existent player ID\n",
    "player = get_player_by_id(player_id)\n",
    "\n",
    "if player:\n",
    "    print(f\"Player found: {player.person_name}\")\n",
    "else:\n",
    "    print(f\"Player with ID {player_id} does not exist\")\n",
    "\n",
    "# Same for stats\n",
    "stats = get_player_season_stats(player_id, 2024)\n",
    "if stats:\n",
    "    print(f\"Stats: {stats}\")\n",
    "else:\n",
    "    print(\"No stats found\")"
   ]
  },
  {
   "cell_type": "markdown",
   "metadata": {},
   "source": [
    "## 6. Performance Notes\n",
    "\n",
    "- Each convenience function opens and closes its own database connection\n",
    "- For multiple operations, use `DatabaseService` context manager for better performance\n",
    "- The service layer includes proper error handling and logging\n",
    "- All functions return `None` or empty lists on failure, never throw exceptions"
   ]
  },
  {
   "cell_type": "code",
   "execution_count": null,
   "metadata": {},
   "outputs": [],
   "source": [
    "# Example of efficient multiple queries using context manager\n",
    "with DatabaseService() as db:\n",
    "    # Multiple queries in one database session\n",
    "    teams = db.team.get_all_active_teams()\n",
    "    players = db.person.get_all_active_players()\n",
    "    \n",
    "    print(f\"Found {len(teams)} active teams and {len(players)} active players\")\n",
    "    \n",
    "    # Get stats for each team\n",
    "    for team in teams[:3]:  # Just first 3 for demo\n",
    "        stats = db.team.get_team_stats_by_season(team.team_id, 2024, \"regular\")\n",
    "        if stats:\n",
    "            print(f\"{team.team_city} {team.team_name}: {stats['ppg']} PPG\")"
   ]
  }
 ],
 "metadata": {
  "kernelspec": {
   "display_name": "Python 3 (ipykernel)",
   "language": "python",
   "name": "python3"
  },
  "language_info": {
   "codemirror_mode": {
    "name": "ipython",
    "version": 3
   },
   "file_extension": ".py",
   "mimetype": "text/x-python",
   "name": "python",
   "nbconvert_exporter": "python",
   "pygments_lexer": "ipython3",
   "version": "3.12.4"
  }
 },
 "nbformat": 4,
 "nbformat_minor": 4
}
